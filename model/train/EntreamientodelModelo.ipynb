{
 "cells": [
  {
   "cell_type": "code",
   "execution_count": 2,
   "id": "e0daf7ba-fcce-4818-9c0a-e8dc98148709",
   "metadata": {},
   "outputs": [
    {
     "name": "stdout",
     "output_type": "stream",
     "text": [
      "Requirement already satisfied: pyarrow in /opt/anaconda3/lib/python3.12/site-packages (19.0.0)\n"
     ]
    }
   ],
   "source": [
    "#Instalar pyarrow\n",
    "!pip install pyarrow"
   ]
  },
  {
   "cell_type": "code",
   "execution_count": 26,
   "id": "17b7fee0-2406-410c-a8e8-ce04865ff3f7",
   "metadata": {},
   "outputs": [
    {
     "name": "stdout",
     "output_type": "stream",
     "text": [
      "Collecting xgboost\n",
      "  Downloading xgboost-3.0.1-py3-none-macosx_12_0_arm64.whl.metadata (2.1 kB)\n",
      "Requirement already satisfied: numpy in /opt/anaconda3/lib/python3.12/site-packages (from xgboost) (1.26.4)\n",
      "Requirement already satisfied: scipy in /opt/anaconda3/lib/python3.12/site-packages (from xgboost) (1.13.1)\n",
      "Downloading xgboost-3.0.1-py3-none-macosx_12_0_arm64.whl (2.0 MB)\n",
      "\u001b[2K   \u001b[90m━━━━━━━━━━━━━━━━━━━━━━━━━━━━━━━━━━━━━━━━\u001b[0m \u001b[32m2.0/2.0 MB\u001b[0m \u001b[31m602.7 kB/s\u001b[0m eta \u001b[36m0:00:00\u001b[0ma \u001b[36m0:00:01\u001b[0m\n",
      "Installing collected packages: xgboost\n",
      "Successfully installed xgboost-3.0.1\n",
      "Note: you may need to restart the kernel to use updated packages.\n"
     ]
    }
   ],
   "source": [
    "pip install xgboost"
   ]
  },
  {
   "cell_type": "code",
   "execution_count": 3,
   "id": "13fe8ea1-7210-4948-902a-46814c0cdba9",
   "metadata": {},
   "outputs": [
    {
     "data": {
      "text/html": [
       "<div>\n",
       "<style scoped>\n",
       "    .dataframe tbody tr th:only-of-type {\n",
       "        vertical-align: middle;\n",
       "    }\n",
       "\n",
       "    .dataframe tbody tr th {\n",
       "        vertical-align: top;\n",
       "    }\n",
       "\n",
       "    .dataframe thead th {\n",
       "        text-align: right;\n",
       "    }\n",
       "</style>\n",
       "<table border=\"1\" class=\"dataframe\">\n",
       "  <thead>\n",
       "    <tr style=\"text-align: right;\">\n",
       "      <th></th>\n",
       "      <th>ANIOCAMPANAPROCESO</th>\n",
       "      <th>ANIOCAMPANA</th>\n",
       "      <th>CODEBELISTA</th>\n",
       "      <th>CODTERRITORIO</th>\n",
       "      <th>CODCOMPORTAMIENTOROLLING</th>\n",
       "      <th>EDAD</th>\n",
       "      <th>FLAGCORREOVALIDADO</th>\n",
       "      <th>FLAGCELULAR</th>\n",
       "      <th>FLAGDIGITAL</th>\n",
       "      <th>DESESTADOCIVIL_CAT</th>\n",
       "      <th>...</th>\n",
       "      <th>DESVIACION_REMESA</th>\n",
       "      <th>FLAGNUEVA</th>\n",
       "      <th>FLAG18</th>\n",
       "      <th>FLAG19</th>\n",
       "      <th>FLAG20</th>\n",
       "      <th>DESV_PEDMIN</th>\n",
       "      <th>DESV_PEDMIN_ADJ</th>\n",
       "      <th>CLASE</th>\n",
       "      <th>TARGET_COBRANZA31_CA</th>\n",
       "      <th>PROM_DIAS_PAGO</th>\n",
       "    </tr>\n",
       "  </thead>\n",
       "  <tbody>\n",
       "    <tr>\n",
       "      <th>0</th>\n",
       "      <td>202414</td>\n",
       "      <td>202410</td>\n",
       "      <td>052370302</td>\n",
       "      <td>57947</td>\n",
       "      <td>1</td>\n",
       "      <td>43</td>\n",
       "      <td>0</td>\n",
       "      <td>1</td>\n",
       "      <td>0</td>\n",
       "      <td>5</td>\n",
       "      <td>...</td>\n",
       "      <td>0.00000</td>\n",
       "      <td>1</td>\n",
       "      <td>0</td>\n",
       "      <td>0</td>\n",
       "      <td>0</td>\n",
       "      <td>224.06000</td>\n",
       "      <td>224.06000</td>\n",
       "      <td>1</td>\n",
       "      <td>1</td>\n",
       "      <td>189.00000</td>\n",
       "    </tr>\n",
       "    <tr>\n",
       "      <th>1</th>\n",
       "      <td>202414</td>\n",
       "      <td>202410</td>\n",
       "      <td>049033176</td>\n",
       "      <td>7361</td>\n",
       "      <td>1</td>\n",
       "      <td>31</td>\n",
       "      <td>0</td>\n",
       "      <td>1</td>\n",
       "      <td>0</td>\n",
       "      <td>5</td>\n",
       "      <td>...</td>\n",
       "      <td>0.00000</td>\n",
       "      <td>1</td>\n",
       "      <td>0</td>\n",
       "      <td>0</td>\n",
       "      <td>0</td>\n",
       "      <td>15.86000</td>\n",
       "      <td>15.86000</td>\n",
       "      <td>0</td>\n",
       "      <td>1</td>\n",
       "      <td>189.00000</td>\n",
       "    </tr>\n",
       "    <tr>\n",
       "      <th>2</th>\n",
       "      <td>202414</td>\n",
       "      <td>202410</td>\n",
       "      <td>052453461</td>\n",
       "      <td>5033</td>\n",
       "      <td>1</td>\n",
       "      <td>27</td>\n",
       "      <td>0</td>\n",
       "      <td>1</td>\n",
       "      <td>0</td>\n",
       "      <td>5</td>\n",
       "      <td>...</td>\n",
       "      <td>0.00000</td>\n",
       "      <td>1</td>\n",
       "      <td>0</td>\n",
       "      <td>0</td>\n",
       "      <td>0</td>\n",
       "      <td>374.16000</td>\n",
       "      <td>374.16000</td>\n",
       "      <td>1</td>\n",
       "      <td>1</td>\n",
       "      <td>189.00000</td>\n",
       "    </tr>\n",
       "    <tr>\n",
       "      <th>3</th>\n",
       "      <td>202414</td>\n",
       "      <td>202410</td>\n",
       "      <td>052363101</td>\n",
       "      <td>32437</td>\n",
       "      <td>1</td>\n",
       "      <td>71</td>\n",
       "      <td>0</td>\n",
       "      <td>1</td>\n",
       "      <td>0</td>\n",
       "      <td>5</td>\n",
       "      <td>...</td>\n",
       "      <td>0.00000</td>\n",
       "      <td>1</td>\n",
       "      <td>0</td>\n",
       "      <td>0</td>\n",
       "      <td>0</td>\n",
       "      <td>51.76000</td>\n",
       "      <td>51.76000</td>\n",
       "      <td>1</td>\n",
       "      <td>1</td>\n",
       "      <td>189.00000</td>\n",
       "    </tr>\n",
       "    <tr>\n",
       "      <th>4</th>\n",
       "      <td>202414</td>\n",
       "      <td>202410</td>\n",
       "      <td>052416760</td>\n",
       "      <td>27765</td>\n",
       "      <td>1</td>\n",
       "      <td>29</td>\n",
       "      <td>0</td>\n",
       "      <td>1</td>\n",
       "      <td>0</td>\n",
       "      <td>5</td>\n",
       "      <td>...</td>\n",
       "      <td>0.00000</td>\n",
       "      <td>1</td>\n",
       "      <td>0</td>\n",
       "      <td>0</td>\n",
       "      <td>0</td>\n",
       "      <td>67.67000</td>\n",
       "      <td>67.67000</td>\n",
       "      <td>1</td>\n",
       "      <td>1</td>\n",
       "      <td>189.00000</td>\n",
       "    </tr>\n",
       "  </tbody>\n",
       "</table>\n",
       "<p>5 rows × 87 columns</p>\n",
       "</div>"
      ],
      "text/plain": [
       "  ANIOCAMPANAPROCESO ANIOCAMPANA CODEBELISTA CODTERRITORIO  \\\n",
       "0             202414      202410   052370302         57947   \n",
       "1             202414      202410   049033176          7361   \n",
       "2             202414      202410   052453461          5033   \n",
       "3             202414      202410   052363101         32437   \n",
       "4             202414      202410   052416760         27765   \n",
       "\n",
       "  CODCOMPORTAMIENTOROLLING EDAD FLAGCORREOVALIDADO FLAGCELULAR FLAGDIGITAL  \\\n",
       "0                        1   43                  0           1           0   \n",
       "1                        1   31                  0           1           0   \n",
       "2                        1   27                  0           1           0   \n",
       "3                        1   71                  0           1           0   \n",
       "4                        1   29                  0           1           0   \n",
       "\n",
       "  DESESTADOCIVIL_CAT  ... DESVIACION_REMESA FLAGNUEVA FLAG18 FLAG19 FLAG20  \\\n",
       "0                  5  ...           0.00000         1      0      0      0   \n",
       "1                  5  ...           0.00000         1      0      0      0   \n",
       "2                  5  ...           0.00000         1      0      0      0   \n",
       "3                  5  ...           0.00000         1      0      0      0   \n",
       "4                  5  ...           0.00000         1      0      0      0   \n",
       "\n",
       "  DESV_PEDMIN DESV_PEDMIN_ADJ CLASE TARGET_COBRANZA31_CA PROM_DIAS_PAGO  \n",
       "0   224.06000       224.06000     1                    1      189.00000  \n",
       "1    15.86000        15.86000     0                    1      189.00000  \n",
       "2   374.16000       374.16000     1                    1      189.00000  \n",
       "3    51.76000        51.76000     1                    1      189.00000  \n",
       "4    67.67000        67.67000     1                    1      189.00000  \n",
       "\n",
       "[5 rows x 87 columns]"
      ]
     },
     "execution_count": 3,
     "metadata": {},
     "output_type": "execute_result"
    }
   ],
   "source": [
    "import pandas as pd\n",
    "\n",
    "# Leer el archivo Parquet\n",
    "df = pd.read_parquet(\"data202414.parquet\")\n",
    "\n",
    "# Visualizar las primeras filas\n",
    "df.head()"
   ]
  },
  {
   "cell_type": "code",
   "execution_count": 5,
   "id": "113d05d9-0d68-4725-9f2d-08cf3e4fa9ae",
   "metadata": {},
   "outputs": [
    {
     "name": "stdout",
     "output_type": "stream",
     "text": [
      "Collecting lightgbm\n",
      "  Downloading lightgbm-4.6.0-py3-none-macosx_12_0_arm64.whl.metadata (17 kB)\n",
      "Requirement already satisfied: numpy>=1.17.0 in /opt/anaconda3/lib/python3.12/site-packages (from lightgbm) (1.26.4)\n",
      "Requirement already satisfied: scipy in /opt/anaconda3/lib/python3.12/site-packages (from lightgbm) (1.13.1)\n",
      "Downloading lightgbm-4.6.0-py3-none-macosx_12_0_arm64.whl (1.6 MB)\n",
      "\u001b[2K   \u001b[90m━━━━━━━━━━━━━━━━━━━━━━━━━━━━━━━━━━━━━━━━\u001b[0m \u001b[32m1.6/1.6 MB\u001b[0m \u001b[31m427.3 kB/s\u001b[0m eta \u001b[36m0:00:00\u001b[0ma \u001b[36m0:00:01\u001b[0m\n",
      "Installing collected packages: lightgbm\n",
      "Successfully installed lightgbm-4.6.0\n"
     ]
    }
   ],
   "source": [
    "!pip install lightgbm"
   ]
  },
  {
   "cell_type": "code",
   "execution_count": 6,
   "id": "ed512ef5-ba0c-48be-8b42-b5812ed17ba6",
   "metadata": {
    "scrolled": true
   },
   "outputs": [],
   "source": [
    "import pandas as pd\n",
    "import numpy as np\n",
    "import matplotlib.pyplot as plt\n",
    "import seaborn as sns\n",
    "\n",
    "from sklearn.model_selection import train_test_split\n",
    "from sklearn.metrics import classification_report, confusion_matrix, roc_auc_score\n",
    "from sklearn.utils import resample\n",
    "\n",
    "import lightgbm as lgbm\n",
    "import warnings\n",
    "warnings.filterwarnings('ignore')\n"
   ]
  },
  {
   "cell_type": "code",
   "execution_count": 7,
   "id": "951a5252-067b-4fb7-8f32-a513146b23c9",
   "metadata": {},
   "outputs": [],
   "source": [
    "# EDA "
   ]
  },
  {
   "cell_type": "code",
   "execution_count": 8,
   "id": "81ebb41a-5c4a-4f85-84cc-74176655bbf4",
   "metadata": {},
   "outputs": [
    {
     "name": "stdout",
     "output_type": "stream",
     "text": [
      "Dimensiones: (99172, 87)\n",
      "\n",
      " Columnas:\n",
      " Index(['ANIOCAMPANAPROCESO', 'ANIOCAMPANA', 'CODEBELISTA', 'CODTERRITORIO',\n",
      "       'CODCOMPORTAMIENTOROLLING', 'EDAD', 'FLAGCORREOVALIDADO', 'FLAGCELULAR',\n",
      "       'FLAGDIGITAL', 'DESESTADOCIVIL_CAT', 'NRO_PEDIDOS', 'NRO_PEDIDOS_U6C',\n",
      "       'NRO_PEDIDOS_U18C', 'CANALINGRESO_CAT', 'REALVTAMNFACTURA', 'CODZONA_X',\n",
      "       'CODREGION', 'EDADBINS', 'PROMEDIOFACTURAS', 'MAXFACTURA', 'MINFACTURA',\n",
      "       'RATIOFACTURAS', 'REGLA_REVISTA', 'REGLA_CATALOGO', 'REGLA_WEB',\n",
      "       'REGLA_OTROS', 'LBEL', 'ESIKA', 'CYZONE', 'ANIOCAMPANAINGRESO',\n",
      "       'GANANCIA_TOTAL', 'DIA_VENC', 'FLAGQUINCENA', 'FLAGINIFIN',\n",
      "       'ANTIGUEDAD', 'FRAGANCIAS', 'CORPORAL', 'FACIAL', 'PERSONAL',\n",
      "       'CAMPANAINGRESO', 'DESNIVELSOCIA', 'DESRENDIMIENTOSOCIA',\n",
      "       'TOTAL_FACTURAS', 'FACTURAS_DEUDA_21_CA', 'FACTURAS_DEUDA_22_CA',\n",
      "       'FACTURAS_DEUDA_23_CA', 'FACTURAS_DEUDA_24_CA', 'FACTURAS_DEUDA_25_CA',\n",
      "       'FACTURAS_DEUDA_26_CA', 'FACTURAS_DEUDA_31_CA', 'FACTURAS_DEUDA_42',\n",
      "       'FACTURAS_DEUDA_63', 'FACTURAS_DEUDA_189', 'RATIO21_CA', 'RATIO22_CA',\n",
      "       'RATIO23_CA', 'RATIO24_CA', 'RATIO25_CA', 'RATIO26_CA', 'RATIO31_CA',\n",
      "       'RATIO42', 'RATIO63', 'RATIO189', 'RATIO999', 'PCTJE_DEUDA_31_CA',\n",
      "       'PCTJE_DEUDA_42', 'PCTJE_DEUDA_63', 'PCTJE_DEUDA_189',\n",
      "       'ULT_CAMPANA_MOROSA', 'COBRABILIDAD21_ZONA', 'COBRABILIDAD26_ZONA',\n",
      "       'COBRABILIDAD31_ZONA', 'COBRABILIDAD189_ZONA', 'REMESA', 'REMESA_H',\n",
      "       'DESVIACION_MAXFACTURA', 'DESVIACION_MINFACTURA', 'DESVIACION_REMESA',\n",
      "       'FLAGNUEVA', 'FLAG18', 'FLAG19', 'FLAG20', 'DESV_PEDMIN',\n",
      "       'DESV_PEDMIN_ADJ', 'CLASE', 'TARGET_COBRANZA31_CA', 'PROM_DIAS_PAGO'],\n",
      "      dtype='object')\n",
      "\n",
      " Tipos de datos:\n",
      " ANIOCAMPANAPROCESO          object\n",
      "ANIOCAMPANA                 object\n",
      "CODEBELISTA                 object\n",
      "CODTERRITORIO               object\n",
      "CODCOMPORTAMIENTOROLLING    object\n",
      "                             ...  \n",
      "DESV_PEDMIN                 object\n",
      "DESV_PEDMIN_ADJ             object\n",
      "CLASE                       object\n",
      "TARGET_COBRANZA31_CA        object\n",
      "PROM_DIAS_PAGO              object\n",
      "Length: 87, dtype: object\n",
      "\n",
      " Valores nulos:\n",
      " ANIOCAMPANAPROCESO          0\n",
      "ANIOCAMPANA                 0\n",
      "CODEBELISTA                 0\n",
      "CODTERRITORIO               0\n",
      "CODCOMPORTAMIENTOROLLING    0\n",
      "                           ..\n",
      "DESV_PEDMIN                 0\n",
      "DESV_PEDMIN_ADJ             0\n",
      "CLASE                       0\n",
      "TARGET_COBRANZA31_CA        0\n",
      "PROM_DIAS_PAGO              0\n",
      "Length: 87, dtype: int64\n",
      "\n",
      " Primeras filas:\n",
      "   ANIOCAMPANAPROCESO ANIOCAMPANA CODEBELISTA CODTERRITORIO  \\\n",
      "0             202414      202410   052370302         57947   \n",
      "1             202414      202410   049033176          7361   \n",
      "2             202414      202410   052453461          5033   \n",
      "3             202414      202410   052363101         32437   \n",
      "4             202414      202410   052416760         27765   \n",
      "\n",
      "  CODCOMPORTAMIENTOROLLING EDAD FLAGCORREOVALIDADO FLAGCELULAR FLAGDIGITAL  \\\n",
      "0                        1   43                  0           1           0   \n",
      "1                        1   31                  0           1           0   \n",
      "2                        1   27                  0           1           0   \n",
      "3                        1   71                  0           1           0   \n",
      "4                        1   29                  0           1           0   \n",
      "\n",
      "  DESESTADOCIVIL_CAT  ... DESVIACION_REMESA FLAGNUEVA FLAG18 FLAG19 FLAG20  \\\n",
      "0                  5  ...           0.00000         1      0      0      0   \n",
      "1                  5  ...           0.00000         1      0      0      0   \n",
      "2                  5  ...           0.00000         1      0      0      0   \n",
      "3                  5  ...           0.00000         1      0      0      0   \n",
      "4                  5  ...           0.00000         1      0      0      0   \n",
      "\n",
      "  DESV_PEDMIN DESV_PEDMIN_ADJ CLASE TARGET_COBRANZA31_CA PROM_DIAS_PAGO  \n",
      "0   224.06000       224.06000     1                    1      189.00000  \n",
      "1    15.86000        15.86000     0                    1      189.00000  \n",
      "2   374.16000       374.16000     1                    1      189.00000  \n",
      "3    51.76000        51.76000     1                    1      189.00000  \n",
      "4    67.67000        67.67000     1                    1      189.00000  \n",
      "\n",
      "[5 rows x 87 columns]\n"
     ]
    }
   ],
   "source": [
    "print(\"Dimensiones:\", df.shape)\n",
    "print(\"\\n Columnas:\\n\", df.columns)\n",
    "print(\"\\n Tipos de datos:\\n\", df.dtypes)\n",
    "print(\"\\n Valores nulos:\\n\", df.isnull().sum())\n",
    "print(\"\\n Primeras filas:\\n\", df.head())"
   ]
  },
  {
   "cell_type": "code",
   "execution_count": 9,
   "id": "1c2df68c-5b81-468a-a653-2d2b95055c8d",
   "metadata": {},
   "outputs": [
    {
     "data": {
      "image/png": "[encoded data removed]",
      "text/plain": [
       "<Figure size 1000x600 with 1 Axes>"
      ]
     },
     "metadata": {},
     "output_type": "display_data"
    }
   ],
   "source": [
    "import pandas as pd\n",
    "import matplotlib.pyplot as plt\n",
    "import seaborn as sns\n",
    "\n",
    "# Calcular nulos\n",
    "null_counts = df.isnull().sum()\n",
    "null_counts = null_counts[null_counts > 0].sort_values(ascending=False)\n",
    "\n",
    "# Gráfico\n",
    "plt.figure(figsize=(10, 6))\n",
    "sns.barplot(x=null_counts.values, y=null_counts.index, palette=\"viridis\")\n",
    "plt.title(\"Cantidad de valores nulos por columna\")\n",
    "plt.xlabel(\"N° de valores nulos\")\n",
    "plt.ylabel(\"Columnas\")\n",
    "plt.tight_layout()\n",
    "plt.show()\n"
   ]
  },
  {
   "cell_type": "code",
   "execution_count": 15,
   "id": "24ef1d6b-2718-41eb-b99e-fdda977f8e99",
   "metadata": {},
   "outputs": [],
   "source": [
    "# Convertir nombres de columnas a minúsculas\n",
    "df.columns = df.columns.str.lower()"
   ]
  },
  {
   "cell_type": "code",
   "execution_count": 16,
   "id": "b8997ff6-3482-402d-8f5a-17ced2344aa2",
   "metadata": {},
   "outputs": [
    {
     "data": {
      "text/plain": [
       "clase\n",
       "0    0.761778\n",
       "1    0.238222\n",
       "Name: proportion, dtype: float64"
      ]
     },
     "execution_count": 16,
     "metadata": {},
     "output_type": "execute_result"
    }
   ],
   "source": [
    "# Balance de la categoría Y\n",
    "df['clase'].value_counts(normalize=True)"
   ]
  },
  {
   "cell_type": "code",
   "execution_count": 17,
   "id": "9564b753-b45b-4972-8fa7-a07d551e503f",
   "metadata": {},
   "outputs": [],
   "source": [
    "# ========================\n",
    "# Preprocesamiento\n",
    "# ========================\n",
    "\n",
    "# Filtro específico\n",
    "dataset = df[df.target_cobranza31_ca == 1]\n",
    "\n",
    "# Reemplazo y conversión de tipos\n",
    "dataset = dataset.fillna(0)\n",
    "dataset.codzona_x = dataset.codzona_x.replace(\"\", -1)\n",
    "dataset.codregion = dataset.codregion.replace(\"\", -1)\n",
    "dataset.codterritorio = dataset.codterritorio.astype(int)\n",
    "dataset.codzona_x = dataset.codzona_x.astype(int)\n",
    "dataset.codregion = dataset.codregion.astype(int)\n",
    "dataset.aniocampanaingreso = dataset.aniocampanaingreso.astype(int)\n",
    "dataset.campanaingreso = dataset.campanaingreso.astype(int)"
   ]
  },
  {
   "cell_type": "code",
   "execution_count": 18,
   "id": "8224588c-d022-440b-8b5d-a60bfac26df4",
   "metadata": {},
   "outputs": [],
   "source": [
    "# ========================\n",
    "# Balanceo\n",
    "# ========================\n",
    "def target_upsampler(dataset):\n",
    "    zero_size = dataset.clase.value_counts()[0]\n",
    "    df_majority = dataset[dataset.clase == 0]\n",
    "    df_minority = dataset[dataset.clase == 1]\n",
    "\n",
    "    df_minority_upsampled = resample(\n",
    "        df_minority,\n",
    "        replace=True,\n",
    "        n_samples=(zero_size // 4),\n",
    "        random_state=123,\n",
    "    )\n",
    "    df_upsampled = pd.concat([df_majority, df_minority_upsampled])\n",
    "    return df_upsampled\n",
    "\n",
    "df_upsampled = target_upsampler(dataset)"
   ]
  },
  {
   "cell_type": "code",
   "execution_count": 19,
   "id": "031535d1-347a-4a5f-9386-31e575b9b381",
   "metadata": {},
   "outputs": [],
   "source": [
    "# ========================\n",
    "# Split Data\n",
    "# ========================\n",
    "X = df_upsampled.drop([\"codebelista\", \"clase\", \"aniocampana\"], axis=1)\n",
    "y = df_upsampled[\"clase\"]\n",
    "\n",
    "X_train, X_test, y_train, y_test = train_test_split(X, y, test_size=0.30, random_state=42)"
   ]
  },
  {
   "cell_type": "code",
   "execution_count": 28,
   "id": "50ab8690-891c-4a1a-8401-4a0eec1cfc20",
   "metadata": {},
   "outputs": [
    {
     "name": "stdout",
     "output_type": "stream",
     "text": [
      "Valores únicos en y_train: [Decimal('0') Decimal('1')]\n",
      "Tipo de datos en y_train: object\n"
     ]
    }
   ],
   "source": [
    "print(\"Valores únicos en y_train:\", y_train.unique())\n",
    "print(\"Tipo de datos en y_train:\", y_train.dtype)"
   ]
  },
  {
   "cell_type": "code",
   "execution_count": 29,
   "id": "499b4215-82f4-440d-a739-d80e4bd19992",
   "metadata": {},
   "outputs": [],
   "source": [
    "# Asegurar que y_train e y_test sean enteros\n",
    "y_train = y_train.astype(float).astype(int)\n",
    "y_test = y_test.astype(float).astype(int)"
   ]
  },
  {
   "cell_type": "code",
   "execution_count": 31,
   "id": "738881d9-aca1-4e49-87d8-c10494e41af7",
   "metadata": {},
   "outputs": [],
   "source": [
    "# Convierte todas las columnas posibles a numéricas \n",
    "X_train = X_train.apply(pd.to_numeric, errors='coerce')\n",
    "X_test = X_test.apply(pd.to_numeric, errors='coerce')\n",
    "\n",
    "# Rellena valores faltantes que hayan aparecido\n",
    "X_train = X_train.fillna(0)\n",
    "X_test = X_test.fillna(0)"
   ]
  },
  {
   "cell_type": "code",
   "execution_count": 33,
   "id": "b36ac315-50b3-4401-b870-471ff8c1da9c",
   "metadata": {},
   "outputs": [
    {
     "name": "stdout",
     "output_type": "stream",
     "text": [
      "[LightGBM] [Warning] bagging_freq is set=3, subsample_freq=0 will be ignored. Current value: bagging_freq=3\n",
      "[LightGBM] [Warning] feature_fraction is set=0.7, colsample_bytree=1.0 will be ignored. Current value: feature_fraction=0.7\n",
      "[LightGBM] [Warning] bagging_fraction is set=0.7, subsample=1.0 will be ignored. Current value: bagging_fraction=0.7\n",
      "[LightGBM] [Warning] bagging_freq is set=3, subsample_freq=0 will be ignored. Current value: bagging_freq=3\n",
      "[LightGBM] [Warning] feature_fraction is set=0.7, colsample_bytree=1.0 will be ignored. Current value: feature_fraction=0.7\n",
      "[LightGBM] [Warning] bagging_fraction is set=0.7, subsample=1.0 will be ignored. Current value: bagging_fraction=0.7\n",
      "[LightGBM] [Info] Number of positive: 13292, number of negative: 52811\n",
      "[LightGBM] [Info] Auto-choosing row-wise multi-threading, the overhead of testing was 0.006548 seconds.\n",
      "You can set `force_row_wise=true` to remove the overhead.\n",
      "And if memory is not enough, you can set `force_col_wise=true`.\n",
      "[LightGBM] [Info] Total Bins 12757\n",
      "[LightGBM] [Info] Number of data points in the train set: 66103, number of used features: 78\n",
      "[LightGBM] [Warning] bagging_freq is set=3, subsample_freq=0 will be ignored. Current value: bagging_freq=3\n",
      "[LightGBM] [Warning] feature_fraction is set=0.7, colsample_bytree=1.0 will be ignored. Current value: feature_fraction=0.7\n",
      "[LightGBM] [Warning] bagging_fraction is set=0.7, subsample=1.0 will be ignored. Current value: bagging_fraction=0.7\n",
      "[LightGBM] [Info] [binary:BoostFromScore]: pavg=0.201080 -> initscore=-1.379557\n",
      "[LightGBM] [Info] Start training from score -1.379557\n",
      "Training until validation scores don't improve for 200 rounds\n",
      "Did not meet early stopping. Best iteration is:\n",
      "[5000]\tvalid_0's binary_logloss: 0.315663\n",
      "[LightGBM] [Warning] bagging_freq is set=3, subsample_freq=0 will be ignored. Current value: bagging_freq=3\n",
      "[LightGBM] [Warning] feature_fraction is set=0.7, colsample_bytree=1.0 will be ignored. Current value: feature_fraction=0.7\n",
      "[LightGBM] [Warning] bagging_fraction is set=0.7, subsample=1.0 will be ignored. Current value: bagging_fraction=0.7\n"
     ]
    }
   ],
   "source": [
    "from lightgbm import LGBMClassifier, early_stopping\n",
    "from xgboost import XGBClassifier\n",
    "from sklearn.ensemble import RandomForestClassifier\n",
    "from sklearn.linear_model import LogisticRegression\n",
    "from sklearn.metrics import classification_report, confusion_matrix\n",
    "import pandas as pd\n",
    "\n",
    "# ========================\n",
    "# 1. LightGBM\n",
    "# ========================\n",
    "model_lgbm = LGBMClassifier(\n",
    "    objective=\"binary\",\n",
    "    max_depth=30,\n",
    "    learning_rate=0.01,\n",
    "    min_child_samples=20,\n",
    "    num_leaves=25,\n",
    "    feature_fraction=0.7,\n",
    "    bagging_fraction=0.7,\n",
    "    bagging_freq=3,\n",
    "    boosting_type=\"gbdt\",\n",
    "    reg_alpha=0,\n",
    "    reg_lambda=0.1,\n",
    "    n_estimators=5000,\n",
    "    random_state=42\n",
    ")\n",
    "\n",
    "model_lgbm.fit(\n",
    "    X_train, y_train,\n",
    "    eval_set=[(X_test, y_test)],\n",
    "    callbacks=[early_stopping(stopping_rounds=200)]\n",
    ")\n",
    "\n",
    "pred_lgbm = model_lgbm.predict(X_test)\n",
    "report_lgbm = classification_report(y_test, pred_lgbm, output_dict=True)\n",
    "\n",
    "# ========================\n",
    "# 2. Random Forest\n",
    "# ========================\n",
    "model_rf = RandomForestClassifier(n_estimators=200, max_depth=10, random_state=42)\n",
    "model_rf.fit(X_train, y_train)\n",
    "pred_rf = model_rf.predict(X_test)\n",
    "report_rf = classification_report(y_test, pred_rf, output_dict=True)\n",
    "\n",
    "# ========================\n",
    "# 3. Logistic Regression\n",
    "# ========================\n",
    "model_lr = LogisticRegression(max_iter=500, random_state=42)\n",
    "model_lr.fit(X_train, y_train)\n",
    "pred_lr = model_lr.predict(X_test)\n",
    "report_lr = classification_report(y_test, pred_lr, output_dict=True)\n",
    "\n",
    "# ========================\n",
    "# 4. XGBoost\n",
    "# ========================\n",
    "model_xgb = XGBClassifier(use_label_encoder=False, eval_metric=\"logloss\", random_state=42)\n",
    "model_xgb.fit(X_train, y_train)\n",
    "pred_xgb = model_xgb.predict(X_test)\n",
    "report_xgb = classification_report(y_test, pred_xgb, output_dict=True)"
   ]
  },
  {
   "cell_type": "code",
   "execution_count": 35,
   "id": "839628ea-a8bc-4c1e-9436-76f025d042ff",
   "metadata": {},
   "outputs": [
    {
     "data": {
      "image/png": "[encoded data removed]",
      "text/plain": [
       "<Figure size 1200x700 with 1 Axes>"
      ]
     },
     "metadata": {},
     "output_type": "display_data"
    }
   ],
   "source": [
    "# Diccionario con métricas reales (asegúrate de que estén definidas)\n",
    "metrics_summary = {\n",
    "    \"LightGBM\": {\n",
    "        \"Accuracy\": report_lgbm[\"accuracy\"],\n",
    "        \"F1_score\": report_lgbm[\"weighted avg\"][\"f1-score\"],\n",
    "        \"Precision\": report_lgbm[\"weighted avg\"][\"precision\"],\n",
    "        \"Recall\": report_lgbm[\"weighted avg\"][\"recall\"]\n",
    "    },\n",
    "    \"RandomForest\": {\n",
    "        \"Accuracy\": report_rf[\"accuracy\"],\n",
    "        \"F1_score\": report_rf[\"weighted avg\"][\"f1-score\"],\n",
    "        \"Precision\": report_rf[\"weighted avg\"][\"precision\"],\n",
    "        \"Recall\": report_rf[\"weighted avg\"][\"recall\"]\n",
    "    },\n",
    "    \"LogisticRegression\": {\n",
    "        \"Accuracy\": report_lr[\"accuracy\"],\n",
    "        \"F1_score\": report_lr[\"weighted avg\"][\"f1-score\"],\n",
    "        \"Precision\": report_lr[\"weighted avg\"][\"precision\"],\n",
    "        \"Recall\": report_lr[\"weighted avg\"][\"recall\"]\n",
    "    },\n",
    "    \"XGBoost\": {\n",
    "        \"Accuracy\": report_xgb[\"accuracy\"],\n",
    "        \"F1_score\": report_xgb[\"weighted avg\"][\"f1-score\"],\n",
    "        \"Precision\": report_xgb[\"weighted avg\"][\"precision\"],\n",
    "        \"Recall\": report_xgb[\"weighted avg\"][\"recall\"]\n",
    "    }\n",
    "}\n",
    "\n",
    "# Convertir a DataFrame\n",
    "metrics_df = pd.DataFrame(metrics_summary).T\n",
    "\n",
    "# Gráfico\n",
    "ax = metrics_df.plot(kind=\"bar\", figsize=(12, 7), edgecolor='black')\n",
    "plt.title(\"📊 Comparación de Modelos de Clasificación\")\n",
    "plt.ylabel(\"Puntaje\")\n",
    "plt.ylim(0, 1)\n",
    "plt.xticks(rotation=0)\n",
    "plt.grid(axis=\"y\")\n",
    "plt.legend(loc=\"lower right\", title=\"Métrica\")\n",
    "\n",
    "# Añadir etiquetas a cada barra\n",
    "for container in ax.containers:\n",
    "    ax.bar_label(container, fmt='%.2f', label_type='edge', padding=3)\n",
    "\n",
    "plt.tight_layout()\n",
    "plt.show()\n",
    "\n"
   ]
  },
  {
   "cell_type": "code",
   "execution_count": 36,
   "id": "a4046cf5-05a5-45f6-8281-c609ea9f5889",
   "metadata": {},
   "outputs": [
    {
     "name": "stdout",
     "output_type": "stream",
     "text": [
      "✅ Modelo guardado como 'modelo_lightgbm_final.pkl'\n"
     ]
    }
   ],
   "source": [
    "import pickle\n",
    "\n",
    "# Define el nombre del archivo\n",
    "filename = \"modelo_lightgbm_final.pkl\"\n",
    "\n",
    "# Guarda el modelo entrenado\n",
    "with open(filename, \"wb\") as f:\n",
    "    pickle.dump(model_lgbm, f)\n",
    "\n",
    "print(f\"✅ Modelo guardado como '{filename}'\")"
   ]
  },
  {
   "cell_type": "code",
   "execution_count": null,
   "id": "368e4a8b-d1fb-4c01-9040-9943dd6d159e",
   "metadata": {},
   "outputs": [],
   "source": []
  }
 ],
 "metadata": {
  "kernelspec": {
   "display_name": "Python [conda env:base] *",
   "language": "python",
   "name": "conda-base-py"
  },
  "language_info": {
   "codemirror_mode": {
    "name": "ipython",
    "version": 3
   },
   "file_extension": ".py",
   "mimetype": "text/x-python",
   "name": "python",
   "nbconvert_exporter": "python",
   "pygments_lexer": "ipython3",
   "version": "3.12.7"
  }
 },
 "nbformat": 4,
 "nbformat_minor": 5
}
